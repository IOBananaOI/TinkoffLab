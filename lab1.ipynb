{
  "nbformat": 4,
  "nbformat_minor": 0,
  "metadata": {
    "colab": {
      "provenance": []
    },
    "kernelspec": {
      "name": "python3",
      "display_name": "Python 3"
    },
    "language_info": {
      "name": "python"
    },
    "accelerator": "GPU",
    "gpuClass": "standard"
  },
  "cells": [
    {
      "cell_type": "code",
      "execution_count": 3,
      "metadata": {
        "id": "bnXz3TepRZ1H"
      },
      "outputs": [],
      "source": [
        "import json\n",
        "api_token = {\"username\":\"iobananaoi\",\"key\":\"0cbdda23beeb18cbb57e9e88bf26bfd1\"}\n",
        "\n",
        "with open('/root/.kaggle/kaggle.json', 'w') as file:\n",
        "    json.dump(api_token, file)\n",
        "\n",
        "!chmod 600 /root/.kaggle/kaggle.json"
      ]
    },
    {
      "cell_type": "code",
      "source": [
        "import cv2\n",
        "import os\n",
        "import matplotlib.pyplot as plt\n",
        "import zipfile\n",
        "import torch\n",
        "from torch import nn\n",
        "from torchvision.transforms import ToTensor\n",
        "from torch.utils.data import Dataset, DataLoader\n",
        "import kaggle\n",
        "from functools import reduce"
      ],
      "metadata": {
        "id": "IQvh9uxiRbsS"
      },
      "execution_count": 28,
      "outputs": []
    },
    {
      "cell_type": "code",
      "source": [
        "!kaggle datasets download -d romanleo2003/labtinkoff"
      ],
      "metadata": {
        "id": "FFlpF8VwRdMK",
        "colab": {
          "base_uri": "https://localhost:8080/"
        },
        "outputId": "8b514ce7-103b-4da4-b90f-43feda084d0f"
      },
      "execution_count": 5,
      "outputs": [
        {
          "output_type": "stream",
          "name": "stdout",
          "text": [
            "Downloading labtinkoff.zip to /content\n",
            "100% 2.12G/2.13G [00:14<00:00, 165MB/s]\n",
            "100% 2.13G/2.13G [00:14<00:00, 157MB/s]\n"
          ]
        }
      ]
    },
    {
      "cell_type": "code",
      "source": [
        "zip_ref = zipfile.ZipFile(\"/content/labtinkoff.zip\", 'r')\n",
        "#zip_ref.extractall()"
      ],
      "metadata": {
        "id": "DMG8Go0sIGQT"
      },
      "execution_count": 9,
      "outputs": []
    },
    {
      "cell_type": "code",
      "source": [
        "for name in zip_ref.namelist():  \n",
        "    old_name = \"/content/\" + name\n",
        "    new_name = name.encode(\"cp437\").decode('utf-8')\n",
        "\n",
        "    zip_ref.extract(name) \n",
        "    os.rename(name, new_name) "
      ],
      "metadata": {
        "id": "DJLV2gYHRe7n"
      },
      "execution_count": 10,
      "outputs": []
    },
    {
      "cell_type": "code",
      "source": [
        "device = \"cuda\" if torch.cuda.is_available() else \"cpu\"\n",
        "device"
      ],
      "metadata": {
        "colab": {
          "base_uri": "https://localhost:8080/",
          "height": 36
        },
        "id": "b4O5NY9J7OGH",
        "outputId": "17607321-0a95-4ce3-d641-9378e027530f"
      },
      "execution_count": 127,
      "outputs": [
        {
          "output_type": "execute_result",
          "data": {
            "text/plain": [
              "'cuda'"
            ],
            "application/vnd.google.colaboratory.intrinsic+json": {
              "type": "string"
            }
          },
          "metadata": {},
          "execution_count": 127
        }
      ]
    },
    {
      "cell_type": "markdown",
      "source": [
        "# Data processing"
      ],
      "metadata": {
        "id": "wHhzR30xRij6"
      }
    },
    {
      "cell_type": "code",
      "source": [
        "class CCPD(Dataset):\n",
        "    def __init__(self, img_dir, transform=None):\n",
        "        self.img_pathes = [f for f in os.listdir(img_dir) if os.path.isfile(os.path.join(img_dir, f))]\n",
        "        self.img_labels = [label.split(\"-\")[1][:-4] for label in self.img_pathes]\n",
        "        self.img_dir = img_dir \n",
        "        self.transform = transform \n",
        "\n",
        "        self.unique_symbols = set([s for label in self.img_labels for s in label])\n",
        "        self.symb2idx = {list(self.unique_symbols)[i]: i for i in range(len(self.unique_symbols))}\n",
        "        self.idx2symb = {i: list(self.unique_symbols)[i] for i in range(len(self.unique_symbols))}\n",
        "        \n",
        "    def convert_label2idxs(self, label: str) -> list:\n",
        "        return [self.symb2idx[symb] for symb in label]\n",
        "    \n",
        "    def convert_idxs2label(self, idxs: list) -> str:\n",
        "        symbs_list = [self.idx2symb[idx.item()] for idx in idxs]\n",
        "        return reduce(lambda x, y: x + y, symbs_list)\n",
        "\n",
        "    def __len__(self):\n",
        "        return len(self.img_labels)\n",
        "\n",
        "    def __getitem__(self, idx):\n",
        "        img_path = os.path.join(self.img_dir, self.img_pathes[idx])\n",
        "        image = cv2.imread(img_path)\n",
        "        image = cv2.resize(image, (100, 40))\n",
        "        image = cv2.cvtColor(image, cv2.COLOR_BGR2GRAY)\n",
        "        label = torch.tensor(self.convert_label2idxs(self.img_labels[idx]))\n",
        "        \n",
        "        if self.transform is not None:\n",
        "            image = self.transform(image)\n",
        "        \n",
        "        return image, label"
      ],
      "metadata": {
        "id": "viHHZ-BwRktg"
      },
      "execution_count": 113,
      "outputs": []
    },
    {
      "cell_type": "code",
      "source": [
        "train_data = CCPD(\"/content/CCPD2019-dl1/train\", transform=ToTensor())\n",
        "#test = CCPD(\"/content/CCPD2019-dl1/test\")"
      ],
      "metadata": {
        "id": "nbW0Swd0RnHj"
      },
      "execution_count": 123,
      "outputs": []
    },
    {
      "cell_type": "code",
      "source": [
        "train_dataloader = DataLoader(train_data, batch_size=32)\n",
        "#test_dataloader = DataLoader(test, batch_size=32, shuffle=True)"
      ],
      "metadata": {
        "id": "mRI_6LAgRoaN"
      },
      "execution_count": 115,
      "outputs": []
    },
    {
      "cell_type": "code",
      "source": [
        "example_features, example_labels = next(iter(train_dataloader))\n",
        "img = example_features[0].squeeze()\n",
        "label = example_labels[0]\n",
        "print(f\"Features shape: {example_features.shape}\")\n",
        "print(train_data.convert_idxs2label(label))\n",
        "plt.imshow(img, cmap=\"gray\")\n",
        "plt.show()"
      ],
      "metadata": {
        "id": "q7WYEvgJRpkK",
        "colab": {
          "base_uri": "https://localhost:8080/",
          "height": 219
        },
        "outputId": "e9fc6526-a295-47c3-e5a4-2792d8546749"
      },
      "execution_count": 116,
      "outputs": [
        {
          "output_type": "stream",
          "name": "stdout",
          "text": [
            "Features shape: torch.Size([32, 1, 40, 100])\n",
            "皖AN6360\n"
          ]
        },
        {
          "output_type": "display_data",
          "data": {
            "text/plain": [
              "<Figure size 432x288 with 1 Axes>"
            ],
            "image/png": "[encoded data removed]"
          },
          "metadata": {
            "needs_background": "light"
          }
        }
      ]
    },
    {
      "cell_type": "markdown",
      "source": [
        "# Model structure"
      ],
      "metadata": {
        "id": "gy0xvCFrRrxu"
      }
    },
    {
      "cell_type": "code",
      "source": [
        "class Encoder(nn.Module):\n",
        "    def __init__(self, latent_dims):\n",
        "        super(Encoder, self).__init__()\n",
        "\n",
        "        self.layer1 = nn.Sequential(nn.Conv2d(1, 32, kernel_size=3, stride=1, padding=1), nn.BatchNorm2d(32),\n",
        "            nn.ReLU(), nn.MaxPool2d(kernel_size=2, stride=1)) \n",
        "        self.layer2 = nn.Sequential(nn.Conv2d(32, 64, kernel_size=3, stride=1, padding=1), \n",
        "            nn.ReLU(), nn.MaxPool2d(kernel_size=2, stride=1))\n",
        "        self.layer3 = nn.Sequential(nn.Conv2d(64, 128, kernel_size=3, stride=1, padding=1), \n",
        "            nn.ReLU(), nn.MaxPool2d(kernel_size=2, stride=1))\n",
        "        self.flatten = nn.Flatten()\n",
        "        self.linear = nn.Linear(128*3589, latent_dims)\n",
        "        \n",
        "\n",
        "    def forward(self, x):\n",
        "        x = self.layer1(x)\n",
        "        x = self.layer2(x)\n",
        "        x = self.layer3(x)\n",
        "        x = self.flatten(x)\n",
        "        x = self.linear(x)\n",
        "        return x"
      ],
      "metadata": {
        "id": "JdWdm2TbTuU7"
      },
      "execution_count": 117,
      "outputs": []
    },
    {
      "cell_type": "code",
      "source": [
        "class Decoder(nn.Module):\n",
        "    def __init__(self, latent_dims, num_classes, num_layers=1, dropout=0.2):\n",
        "        super(Decoder, self).__init__()\n",
        "\n",
        "        self.lstm = nn.LSTM(latent_dims, latent_dims, num_layers, dropout=dropout, bidirectional=True)\n",
        "        self.fc = nn.Linear(latent_dims*2, num_classes)\n",
        "        self.sm = nn.Softmax(dim=1)\n",
        "\n",
        "    def forward(self, x):\n",
        "        out, state = self.lstm(x)\n",
        "        logits = self.fc(out)\n",
        "        preds = self.sm(logits)\n",
        "        return preds"
      ],
      "metadata": {
        "id": "nMyCXt06X1KZ"
      },
      "execution_count": 118,
      "outputs": []
    },
    {
      "cell_type": "code",
      "source": [
        "class CRNN(nn.Module):\n",
        "    def __init__(self, latent_dims, num_classes, rnn_layers=2, rnn_dropout=0.05):\n",
        "        super(CRNN, self).__init__()\n",
        "\n",
        "        self.encoder = Encoder(latent_dims)\n",
        "        self.decoder = Decoder(latent_dims, num_classes, rnn_layers, rnn_dropout)\n",
        "\n",
        "    def forward(self, x):\n",
        "        x = self.encoder(x)\n",
        "        x = self.decoder(x)\n",
        "        return x"
      ],
      "metadata": {
        "id": "vlzCyD0ERsSY"
      },
      "execution_count": 119,
      "outputs": []
    },
    {
      "cell_type": "markdown",
      "source": [
        "# Training part"
      ],
      "metadata": {
        "id": "MVx7Fw51dWY0"
      }
    },
    {
      "cell_type": "code",
      "source": [
        "batch_size = 32\n",
        "num_classes = len(train_data.unique_symbols) + 1 # Reserve one more for blank symbol"
      ],
      "metadata": {
        "id": "Jh8iN8pBUTmO"
      },
      "execution_count": 132,
      "outputs": []
    },
    {
      "cell_type": "code",
      "source": [
        "def train(model, dataloader, optimizer):\n",
        "    size = len(dataloader.dataset)\n",
        "    model.train()\n",
        "\n",
        "    for i, (img, label) in enumerate(dataloader):\n",
        "        img, label = img.to(device), label.to(device)\n",
        "\n",
        "        # Pred computation\n",
        "        pred = model(img)\n",
        "        ctc_loss = nn.CTCLoss()\n",
        "        input_lengths = torch.full(size=(batch_size,), fill_value=num_classes, dtype=torch.long)\n",
        "        target_lengths = torch.full(size=(batch_size,), fill_value=num_classes, dtype=torch.long)\n",
        "        loss = ctc_loss(pred, label, input_lengths, target_lengths)\n",
        "\n",
        "        #Backprop\n",
        "        optimizer.zero_grad()\n",
        "        loss.backward()\n",
        "        optimizer.step()\n",
        "\n",
        "        if i % 100 == 0:\n",
        "            loss, current = loss.item(), i * len(img)\n",
        "            print(f\"loss: {loss:>7f}  [{current:>5d}/{size:>5d}]\")\n"
      ],
      "metadata": {
        "id": "cQ7jXvJl5LHT"
      },
      "execution_count": 133,
      "outputs": []
    },
    {
      "cell_type": "code",
      "source": [
        "model = CRNN(1000, num_classes).to(device)\n",
        "optimizer = torch.optim.Adam(model.parameters())\n",
        "\n",
        "train(model, train_dataloader, optimizer)"
      ],
      "metadata": {
        "id": "tRkSe8Iz8bRZ"
      },
      "execution_count": null,
      "outputs": []
    }
  ]
}
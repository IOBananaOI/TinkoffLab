{
  "nbformat": 4,
  "nbformat_minor": 0,
  "metadata": {
    "colab": {
      "provenance": []
    },
    "kernelspec": {
      "name": "python3",
      "display_name": "Python 3"
    },
    "language_info": {
      "name": "python"
    },
    "gpuClass": "standard",
    "accelerator": "GPU"
  },
  "cells": [
    {
      "cell_type": "code",
      "execution_count": 6,
      "metadata": {
        "id": "bnXz3TepRZ1H"
      },
      "outputs": [],
      "source": [
        "import json\n",
        "api_token = {\"username\":\"iobananaoi\",\"key\":\"0cbdda23beeb18cbb57e9e88bf26bfd1\"}\n",
        "\n",
        "with open('/root/.kaggle/kaggle.json', 'w') as file:\n",
        "    json.dump(api_token, file)\n",
        "\n",
        "!chmod 600 /root/.kaggle/kaggle.json"
      ]
    },
    {
      "cell_type": "code",
      "source": [
        "import cv2\n",
        "import os\n",
        "import matplotlib.pyplot as plt\n",
        "import zipfile\n",
        "import torch\n",
        "from torch import nn\n",
        "from torchvision.transforms import ToTensor, Compose, Normalize\n",
        "from torch.utils.data import Dataset, DataLoader\n",
        "import kaggle\n",
        "from functools import reduce\n",
        "import numpy as np\n",
        "import PIL\n",
        "from itertools import groupby"
      ],
      "metadata": {
        "id": "IQvh9uxiRbsS"
      },
      "execution_count": 24,
      "outputs": []
    },
    {
      "cell_type": "code",
      "source": [
        "!kaggle datasets download -d romanleo2003/labtinkoff"
      ],
      "metadata": {
        "colab": {
          "base_uri": "https://localhost:8080/"
        },
        "id": "N_swliWXqMnJ",
        "outputId": "efdd03ef-8e8b-4129-f0c5-7c48e8651458"
      },
      "execution_count": 8,
      "outputs": [
        {
          "output_type": "stream",
          "name": "stdout",
          "text": [
            "Downloading labtinkoff.zip to /content\n",
            "100% 2.12G/2.13G [01:35<00:00, 24.9MB/s]\n",
            "100% 2.13G/2.13G [01:35<00:00, 23.8MB/s]\n"
          ]
        }
      ]
    },
    {
      "cell_type": "code",
      "source": [
        "zip_ref = zipfile.ZipFile(\"/content/labtinkoff.zip\", 'r')\n",
        "zip_ref.extractall()"
      ],
      "metadata": {
        "id": "k2u7aA9sqnPE"
      },
      "execution_count": 9,
      "outputs": []
    },
    {
      "cell_type": "code",
      "source": [
        "for name in zip_ref.namelist():  \n",
        "    old_name = \"/content/\" + name\n",
        "    new_name = name.encode(\"cp437\").decode('utf-8')\n",
        "\n",
        "    zip_ref.extract(name) \n",
        "    os.rename(name, new_name) "
      ],
      "metadata": {
        "id": "0OAAFDU_qouG"
      },
      "execution_count": 10,
      "outputs": []
    },
    {
      "cell_type": "code",
      "source": [
        "device = \"cuda\" if torch.cuda.is_available() else \"cpu\"\n",
        "device"
      ],
      "metadata": {
        "id": "b4O5NY9J7OGH",
        "colab": {
          "base_uri": "https://localhost:8080/",
          "height": 36
        },
        "outputId": "0336733f-0c99-4009-d956-db28ac04ef84"
      },
      "execution_count": 11,
      "outputs": [
        {
          "output_type": "execute_result",
          "data": {
            "text/plain": [
              "'cuda'"
            ],
            "application/vnd.google.colaboratory.intrinsic+json": {
              "type": "string"
            }
          },
          "metadata": {},
          "execution_count": 11
        }
      ]
    },
    {
      "cell_type": "code",
      "source": [
        "batch_size = 64"
      ],
      "metadata": {
        "id": "iO9-SKLNWx37"
      },
      "execution_count": 12,
      "outputs": []
    },
    {
      "cell_type": "markdown",
      "source": [
        "# Data processing"
      ],
      "metadata": {
        "id": "wHhzR30xRij6"
      }
    },
    {
      "cell_type": "code",
      "source": [
        "class CCPD(Dataset):\n",
        "    def __init__(self, img_dir, transform=None):\n",
        "        self.img_pathes = [f for f in os.listdir(img_dir) if os.path.isfile(os.path.join(img_dir, f))][:64000]\n",
        "        self.img_labels = [label.split(\"-\")[1][:-4] for label in self.img_pathes][:64000]\n",
        "        self.img_dir = img_dir \n",
        "        self.transform = transform \n",
        "\n",
        "        self.unique_symbols = set([s for label in self.img_labels for s in label])\n",
        "        self.symb2idx = {list(self.unique_symbols)[i]: i+1 for i in range(len(self.unique_symbols))}\n",
        "        self.idx2symb = {i+1: list(self.unique_symbols)[i] for i in range(len(self.unique_symbols))}\n",
        "        \n",
        "    def convert_label2idxs(self, label: str) -> list:\n",
        "        return [self.symb2idx[symb] for symb in label]\n",
        "    \n",
        "    def convert_idxs2label(self, idxs: list) -> str:\n",
        "        symbs_list = [self.idx2symb[idx.item()] for idx in idxs]\n",
        "        return reduce(lambda x, y: x + y, symbs_list)\n",
        "\n",
        "    def __len__(self):\n",
        "        return len(self.img_labels)\n",
        "\n",
        "    def __getitem__(self, idx):\n",
        "        img_path = os.path.join(self.img_dir, self.img_pathes[idx])\n",
        "        image = cv2.imread(img_path)\n",
        "        image = cv2.cvtColor(np.array(image), cv2.COLOR_BGR2GRAY)\n",
        "        image = cv2.resize(image, (100, 40))\n",
        "        label = torch.tensor(self.convert_label2idxs(self.img_labels[idx]))\n",
        "        \n",
        "        if self.transform is not None:\n",
        "            image = self.transform(image)\n",
        "        \n",
        "        return image, label"
      ],
      "metadata": {
        "id": "viHHZ-BwRktg"
      },
      "execution_count": 52,
      "outputs": []
    },
    {
      "cell_type": "code",
      "source": [
        "train_data = CCPD(\"CCPD2019-dl1/train\", transform=ToTensor())\n",
        "test_data = CCPD(\"CCPD2019-dl1/test\", transform=ToTensor())"
      ],
      "metadata": {
        "id": "nbW0Swd0RnHj"
      },
      "execution_count": 53,
      "outputs": []
    },
    {
      "cell_type": "code",
      "source": [
        "train_dataloader = DataLoader(train_data, batch_size=batch_size)\n",
        "test_dataloader = DataLoader(test_data, batch_size=batch_size, shuffle=True)"
      ],
      "metadata": {
        "id": "mRI_6LAgRoaN"
      },
      "execution_count": 54,
      "outputs": []
    },
    {
      "cell_type": "code",
      "source": [
        "example_features, example_labels = next(iter(train_dataloader))\n",
        "img = example_features[0].squeeze()\n",
        "label = example_labels[0]\n",
        "print(f\"Features shape: {example_features.shape}\")\n",
        "print(train_data.convert_idxs2label(label))\n",
        "plt.imshow(img, cmap=\"gray\")\n",
        "plt.show()"
      ],
      "metadata": {
        "id": "q7WYEvgJRpkK",
        "colab": {
          "base_uri": "https://localhost:8080/",
          "height": 219
        },
        "outputId": "498ce3ef-763b-4386-90f5-7c1adb454a46"
      },
      "execution_count": 55,
      "outputs": [
        {
          "output_type": "stream",
          "name": "stdout",
          "text": [
            "Features shape: torch.Size([64, 1, 40, 100])\n",
            "皖AN6360\n"
          ]
        },
        {
          "output_type": "display_data",
          "data": {
            "text/plain": [
              "<Figure size 432x288 with 1 Axes>"
            ],
            "image/png": "[encoded data removed]"
          },
          "metadata": {
            "needs_background": "light"
          }
        }
      ]
    },
    {
      "cell_type": "markdown",
      "source": [
        "# Model structure"
      ],
      "metadata": {
        "id": "gy0xvCFrRrxu"
      }
    },
    {
      "cell_type": "code",
      "source": [
        "class Encoder(nn.Module):\n",
        "    def __init__(self, dropout):\n",
        "        super(Encoder, self).__init__()\n",
        "\n",
        "        self.layer1 = nn.Sequential(nn.Conv2d(1, 32, kernel_size=(3, 3), stride=1, padding=1),\n",
        "            nn.PReLU(), nn.MaxPool2d(kernel_size=2, stride=1)) \n",
        "        self.layer2 = nn.Sequential(nn.Conv2d(32, 64, kernel_size=(3, 3), stride=1, padding=1),  \n",
        "            nn.PReLU(), nn.MaxPool2d(kernel_size=2, stride=2))\n",
        "        self.layer3 = nn.Sequential(nn.Conv2d(64, 128, kernel_size=(3, 3), stride=1, padding=1), \n",
        "            nn.PReLU(), nn.MaxPool2d(kernel_size=2, stride=1))\n",
        "        self.dropout = nn.Dropout(dropout)\n",
        "        self.layer4 = nn.Sequential(nn.Conv2d(128, 128, kernel_size=(3, 3), stride=1, padding=2), \n",
        "            nn.PReLU(), nn.MaxPool2d(kernel_size=2, stride=1))\n",
        "\n",
        "    def forward(self, x):\n",
        "        x = self.layer1(x)\n",
        "        x = self.layer2(x)\n",
        "        x = self.dropout(x)\n",
        "        x = self.layer3(x)\n",
        "        #x = self.layer4(x)\n",
        "\n",
        "        x = x.reshape(x.shape[0], -1, x.shape[2]*x.shape[3])\n",
        "        \n",
        "        return x\n",
        "     "
      ],
      "metadata": {
        "id": "JdWdm2TbTuU7"
      },
      "execution_count": 56,
      "outputs": []
    },
    {
      "cell_type": "code",
      "source": [
        "class Decoder(nn.Module):\n",
        "    def __init__(self, latent_dims, num_classes, num_layers, dropout):\n",
        "        super(Decoder, self).__init__()\n",
        "\n",
        "        self.lstm = nn.GRU(latent_dims, latent_dims, num_layers, dropout=dropout)\n",
        "        self.fc = nn.Linear(latent_dims, num_classes)\n",
        "        self.sm = nn.Softmax(dim=1)\n",
        "\n",
        "    def forward(self, x):\n",
        "        out, state = self.lstm(x)\n",
        "        logits = self.fc(out)\n",
        "        preds = self.sm(logits)\n",
        "\n",
        "        return preds"
      ],
      "metadata": {
        "id": "nMyCXt06X1KZ"
      },
      "execution_count": 39,
      "outputs": []
    },
    {
      "cell_type": "code",
      "source": [
        "class CRNN(nn.Module):\n",
        "    def __init__(self, latent_dims, batch_size, num_classes, rnn_layers=3, rnn_dropout=0.01, cnn_dropout=0.01):\n",
        "        super(CRNN, self).__init__()\n",
        "\n",
        "        self.encoder = Encoder(cnn_dropout)\n",
        "        self.decoder = Decoder(latent_dims, num_classes, rnn_layers, rnn_dropout)\n",
        "\n",
        "    def forward(self, x):\n",
        "        x = self.encoder(x)\n",
        "        x = self.decoder(x)\n",
        "        return x"
      ],
      "metadata": {
        "id": "vlzCyD0ERsSY"
      },
      "execution_count": 40,
      "outputs": []
    },
    {
      "cell_type": "markdown",
      "source": [
        "# Training part"
      ],
      "metadata": {
        "id": "MVx7Fw51dWY0"
      }
    },
    {
      "cell_type": "code",
      "source": [
        "num_classes = len(train_data.unique_symbols) + 1 # Reserve one more for blank symbol"
      ],
      "metadata": {
        "id": "Jh8iN8pBUTmO"
      },
      "execution_count": 41,
      "outputs": []
    },
    {
      "cell_type": "code",
      "source": [
        "def train(model, dataloader, optimizer):\n",
        "    size = len(dataloader.dataset)\n",
        "    model.train()\n",
        "\n",
        "    for i, (img, label) in enumerate(dataloader):\n",
        "        img, label = img.to(device), label.to(device)\n",
        "\n",
        "        # Pred computation\n",
        "        pred = model(img)\n",
        "        pred = pred.permute(1, 0, 2)\n",
        "        \n",
        "        ctc_loss = nn.CTCLoss(reduction='mean', zero_infinity=True)\n",
        "        input_lengths = torch.IntTensor(batch_size).fill_(23)\n",
        "        target_lengths = torch.full(size=(batch_size,), fill_value=7, dtype=torch.long)\n",
        "        loss = ctc_loss(pred, label, input_lengths, target_lengths)\n",
        "\n",
        "        #Backprop\n",
        "        optimizer.zero_grad()\n",
        "        loss.backward()\n",
        "        optimizer.step()\n",
        "\n",
        "        if i % 100 == 0:\n",
        "            loss, current = loss.item(), i * len(img)\n",
        "            print(f\"loss: {loss:>7f}  [{current:>5d}/{size:>5d}]\")"
      ],
      "metadata": {
        "id": "cQ7jXvJl5LHT"
      },
      "execution_count": 47,
      "outputs": []
    },
    {
      "cell_type": "code",
      "source": [
        "model = CRNN(931, batch_size, num_classes, rnn_layers=2, rnn_dropout=0.25, cnn_dropout=0.25).to(device)"
      ],
      "metadata": {
        "id": "gI2p_5MpvAeQ"
      },
      "execution_count": 48,
      "outputs": []
    },
    {
      "cell_type": "code",
      "source": [
        "optimizer = torch.optim.Adam(model.parameters(), lr=0.001)\n",
        "\n",
        "for i in range(10):\n",
        "    print(f\"========== Epoch {i+1}: ==========\")\n",
        "    train(model, train_dataloader, optimizer)"
      ],
      "metadata": {
        "id": "qvIOC1V2jhv6",
        "colab": {
          "base_uri": "https://localhost:8080/"
        },
        "outputId": "bfafec25-30bb-4cbb-e37e-02cb267bc484"
      },
      "execution_count": 49,
      "outputs": [
        {
          "output_type": "stream",
          "name": "stdout",
          "text": [
            "========== Epoch 1: ==========\n",
            "loss: -2.670928  [    0/64000]\n",
            "loss: -2.648199  [ 6400/64000]\n",
            "loss: -2.665310  [12800/64000]\n",
            "loss: -2.665378  [19200/64000]\n",
            "loss: -2.661032  [25600/64000]\n",
            "loss: -2.655488  [32000/64000]\n",
            "loss: -2.654016  [38400/64000]\n",
            "loss: -2.662504  [44800/64000]\n",
            "loss: -2.652750  [51200/64000]\n",
            "loss: -2.653880  [57600/64000]\n",
            "========== Epoch 2: ==========\n",
            "loss: -2.645248  [    0/64000]\n",
            "loss: -2.648199  [ 6400/64000]\n",
            "loss: -2.665310  [12800/64000]\n",
            "loss: -2.665378  [19200/64000]\n",
            "loss: -2.661032  [25600/64000]\n",
            "loss: -2.655488  [32000/64000]\n",
            "loss: -2.654016  [38400/64000]\n",
            "loss: -2.662504  [44800/64000]\n",
            "loss: -2.652750  [51200/64000]\n",
            "loss: -2.653880  [57600/64000]\n",
            "========== Epoch 3: ==========\n",
            "loss: -2.645248  [    0/64000]\n",
            "loss: -2.648199  [ 6400/64000]\n",
            "loss: -2.665310  [12800/64000]\n",
            "loss: -2.665378  [19200/64000]\n",
            "loss: -2.661032  [25600/64000]\n",
            "loss: -2.655488  [32000/64000]\n",
            "loss: -2.654016  [38400/64000]\n",
            "loss: -2.662504  [44800/64000]\n",
            "loss: -2.652750  [51200/64000]\n",
            "loss: -2.653880  [57600/64000]\n"
          ]
        }
      ]
    },
    {
      "cell_type": "markdown",
      "source": [
        "# Testing part"
      ],
      "metadata": {
        "id": "TfvuxEhAB7YF"
      }
    },
    {
      "cell_type": "code",
      "source": [
        "def test(model, dataloader):\n",
        "    size = len(dataloader.dataset)\n",
        "    model.eval()\n",
        "    num_batches = batch_size\n",
        "\n",
        "    test_loss, correct = 0, 0\n",
        "    i = 0\n",
        "    with torch.no_grad():\n",
        "        for X, y in dataloader:\n",
        "            if i == 156:\n",
        "                break\n",
        "            i += 1\n",
        "            X, y = X.to(device), y.to(device)\n",
        "            pred = model(X)\n",
        "            pred = pred.permute(1, 0, 2)\n",
        "\n",
        "            ctc_loss = nn.CTCLoss(zero_infinity=True)\n",
        "            input_lengths = torch.IntTensor(batch_size).fill_(23)\n",
        "            target_lengths = torch.full(size=(batch_size,), fill_value=7, dtype=torch.long)\n",
        "            test_loss += ctc_loss(pred, y, input_lengths, target_lengths).item()\n",
        "\n",
        "    test_loss /= num_batches\n",
        "    print(f\"Avg loss: {test_loss:>8f} \\n\")"
      ],
      "metadata": {
        "id": "i8zUdiS4WZfZ"
      },
      "execution_count": 57,
      "outputs": []
    },
    {
      "cell_type": "code",
      "source": [
        "test(model, test_dataloader)"
      ],
      "metadata": {
        "colab": {
          "base_uri": "https://localhost:8080/"
        },
        "id": "6s6016hNYt7g",
        "outputId": "c0a46bd2-5d0a-4b2a-8667-afdad18dc0ac"
      },
      "execution_count": 58,
      "outputs": [
        {
          "output_type": "stream",
          "name": "stdout",
          "text": [
            "Avg loss: -6.471286 \n",
            "\n"
          ]
        }
      ]
    },
    {
      "cell_type": "markdown",
      "source": [
        "На лицо очевидное недообучение модели. Скорее всего проблема в реализации выбранной архитектуры.\n",
        "Из идей, как можно было бы привести её к удобоваримому виду: <br>\n",
        "1) Заменить GRU, на LSTM(bidirectional=true), требует больше времени для обучения, но работает лучше<br>\n",
        "2) Добавить эпох<br>\n",
        "3) Как-то поменять decoder, добавить нормализацию по батчу, добавить больше конволюционных слоёв, увеличить окно ядра<br>\n",
        "4) Добавить слоёв в LSTM"
      ],
      "metadata": {
        "id": "AYKTNTrJ7Xwz"
      }
    },
    {
      "cell_type": "code",
      "source": [],
      "metadata": {
        "id": "s1yCtQrkbLGQ"
      },
      "execution_count": null,
      "outputs": []
    }
  ]
}
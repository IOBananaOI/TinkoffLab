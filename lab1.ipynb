{
  "nbformat": 4,
  "nbformat_minor": 0,
  "metadata": {
    "colab": {
      "provenance": []
    },
    "kernelspec": {
      "name": "python3",
      "display_name": "Python 3"
    },
    "language_info": {
      "name": "python"
    }
  },
  "cells": [
    {
      "cell_type": "code",
      "execution_count": 2,
      "metadata": {
        "id": "bnXz3TepRZ1H"
      },
      "outputs": [],
      "source": [
        "import json\n",
        "api_token = {\"username\":\"iobananaoi\",\"key\":\"0cbdda23beeb18cbb57e9e88bf26bfd1\"}\n",
        "\n",
        "with open('/root/.kaggle/kaggle.json', 'w') as file:\n",
        "    json.dump(api_token, file)\n",
        "\n",
        "!chmod 600 /root/.kaggle/kaggle.json"
      ]
    },
    {
      "cell_type": "code",
      "source": [
        "import cv2\n",
        "import os\n",
        "import matplotlib.pyplot as plt\n",
        "import zipfile\n",
        "import torch\n",
        "from torch import nn\n",
        "from torchvision.transforms import ToTensor\n",
        "from torch.utils.data import Dataset, DataLoader\n",
        "import kaggle"
      ],
      "metadata": {
        "id": "IQvh9uxiRbsS"
      },
      "execution_count": 3,
      "outputs": []
    },
    {
      "cell_type": "code",
      "source": [
        "!kaggle datasets download -d romanleo2003/labtinkoff"
      ],
      "metadata": {
        "id": "FFlpF8VwRdMK",
        "colab": {
          "base_uri": "https://localhost:8080/"
        },
        "outputId": "cd6a86c0-6e15-442c-d21c-37b974b0bb14"
      },
      "execution_count": 4,
      "outputs": [
        {
          "output_type": "stream",
          "name": "stdout",
          "text": [
            "labtinkoff.zip: Skipping, found more recently modified local copy (use --force to force download)\n"
          ]
        }
      ]
    },
    {
      "cell_type": "code",
      "source": [
        "with zipfile.ZipFile(\"/content/labtinkoff.zip\", 'r') as zip_ref:\n",
        "    zip_ref.extractall()"
      ],
      "metadata": {
        "id": "DJLV2gYHRe7n"
      },
      "execution_count": 5,
      "outputs": []
    },
    {
      "cell_type": "markdown",
      "source": [
        "# Data processing"
      ],
      "metadata": {
        "id": "wHhzR30xRij6"
      }
    },
    {
      "cell_type": "code",
      "source": [
        "class CCPD(Dataset):\n",
        "    def __init__(self, img_dir, transform=None, target_transform=None):\n",
        "        self.img_pathes = [f for f in os.listdir(img_dir) if os.path.isfile(os.path.join(img_dir, f))]\n",
        "        self.img_labels = [label.split(\"-\")[1][:-4] for label in self.img_pathes]\n",
        "        self.img_dir = img_dir\n",
        "        self.transform = transform\n",
        "        self.target_transform = target_transform\n",
        "        \n",
        "        self.unique_symbols = set()\n",
        "        labels = [(label[:3], label[3:]) for label in self.img_labels]\n",
        "        for l in labels:\n",
        "            self.unique_symbols.add(l[0])\n",
        "            for s in l[1]: self.unique_symbols.add(s)\n",
        "        \n",
        "\n",
        "    def __len__(self):\n",
        "        return len(self.img_labels)\n",
        "\n",
        "    def __getitem__(self, idx):\n",
        "        img_path = os.path.join(self.img_dir, self.img_pathes[idx])\n",
        "        image = cv2.imread(img_path)\n",
        "        image = cv2.resize(image, (100, 40))\n",
        "        image = cv2.cvtColor(image, cv2.COLOR_BGR2GRAY)\n",
        "        label = self.img_labels[idx]\n",
        "        if self.transform:\n",
        "            image = self.transform(image)\n",
        "        if self.target_transform:\n",
        "            label = self.target_transform(label)\n",
        "        return image, label"
      ],
      "metadata": {
        "id": "viHHZ-BwRktg"
      },
      "execution_count": 6,
      "outputs": []
    },
    {
      "cell_type": "code",
      "source": [
        "train = CCPD(\"/content/CCPD2019-dl1/train\", transform=ToTensor())\n",
        "#test = CCPD(\"/content/CCPD2019-dl1/test\")"
      ],
      "metadata": {
        "id": "nbW0Swd0RnHj"
      },
      "execution_count": 7,
      "outputs": []
    },
    {
      "cell_type": "code",
      "source": [
        "train_dataloader = DataLoader(train, batch_size=32)\n",
        "#test_dataloader = DataLoader(test, batch_size=32, shuffle=True)"
      ],
      "metadata": {
        "id": "mRI_6LAgRoaN"
      },
      "execution_count": 8,
      "outputs": []
    },
    {
      "cell_type": "code",
      "source": [
        "train_features, train_labels = next(iter(train_dataloader))\n",
        "img = train_features[0].squeeze()\n",
        "label = train_labels[0]\n",
        "print(f\"Features shape: {train_features.shape}\")\n",
        "print(label)\n",
        "plt.imshow(img, cmap=\"gray\")\n",
        "plt.show()"
      ],
      "metadata": {
        "id": "q7WYEvgJRpkK",
        "colab": {
          "base_uri": "https://localhost:8080/",
          "height": 219
        },
        "outputId": "c599fcaf-3506-4324-a89f-074066d062b1"
      },
      "execution_count": 9,
      "outputs": [
        {
          "output_type": "stream",
          "name": "stdout",
          "text": [
            "Features shape: torch.Size([32, 1, 40, 100])\n",
            "τÜûA03F85\n"
          ]
        },
        {
          "output_type": "display_data",
          "data": {
            "text/plain": [
              "<Figure size 432x288 with 1 Axes>"
            ],
            "image/png": "[encoded data removed]"
          },
          "metadata": {
            "needs_background": "light"
          }
        }
      ]
    },
    {
      "cell_type": "markdown",
      "source": [
        "# Model structure"
      ],
      "metadata": {
        "id": "gy0xvCFrRrxu"
      }
    },
    {
      "cell_type": "code",
      "source": [
        "class Encoder(nn.Module):\n",
        "    def __init__(self, latent_dims):\n",
        "        super(Encoder, self).__init__()\n",
        "\n",
        "        self.layer1 = nn.Sequential(nn.Conv2d(1, 32, kernel_size=3, stride=1, padding=1), \n",
        "            nn.ReLU(), nn.MaxPool2d(kernel_size=2, stride=1)) \n",
        "        self.layer2 = nn.Sequential(nn.Conv2d(32, 64, kernel_size=3, stride=1, padding=1), \n",
        "            nn.ReLU(), nn.MaxPool2d(kernel_size=2, stride=1))\n",
        "        self.layer3 = nn.Sequential(nn.Conv2d(64, 128, kernel_size=3, stride=1, padding=1), \n",
        "            nn.ReLU(), nn.MaxPool2d(kernel_size=2, stride=1))\n",
        "        self.flatten = nn.Flatten()\n",
        "        self.linear = nn.Linear(128*3589, latent_dims)\n",
        "        \n",
        "\n",
        "    def forward(self, x):\n",
        "        x = self.layer1(x)\n",
        "        x = self.layer2(x)\n",
        "        x = self.layer3(x)\n",
        "        x = self.flatten(x)\n",
        "        x = self.linear(x)\n",
        "        return x"
      ],
      "metadata": {
        "id": "JdWdm2TbTuU7"
      },
      "execution_count": 10,
      "outputs": []
    },
    {
      "cell_type": "code",
      "source": [
        "class Decoder(nn.Module):\n",
        "    def __init__(self, latent_dims, n_vocab, num_layers=1, dropout=0.2):\n",
        "        super(Decoder, self).__init__()\n",
        "\n",
        "        self.lstm = nn.LSTM(latent_dims, latent_dims, num_layers, dropout=dropout, bidirectional=True)\n",
        "        self.fc = nn.Linear(latent_dims*2, n_vocab)\n",
        "\n",
        "    def forward(self, x):\n",
        "        out, state = self.lstm(x)\n",
        "        logits = self.fc(out)\n",
        "        return logits"
      ],
      "metadata": {
        "id": "nMyCXt06X1KZ"
      },
      "execution_count": 11,
      "outputs": []
    },
    {
      "cell_type": "code",
      "source": [
        "class Img2Seq(nn.Module):\n",
        "    def __init__(self, latent_dims, n_vocab):\n",
        "        super(Img2Seq, self).__init__()\n",
        "\n",
        "        self.encoder = Encoder(latent_dims)\n",
        "        self.decoder = Decoder(latent_dims, n_vocab, 2)\n",
        "\n",
        "    def forward(self, x):\n",
        "        x = self.encoder(x)\n",
        "        x = self.decoder(x)\n",
        "        return x"
      ],
      "metadata": {
        "id": "vlzCyD0ERsSY"
      },
      "execution_count": 12,
      "outputs": []
    },
    {
      "cell_type": "markdown",
      "source": [
        "# Training part"
      ],
      "metadata": {
        "id": "MVx7Fw51dWY0"
      }
    },
    {
      "cell_type": "code",
      "source": [
        "def train(model, dataloader):\n",
        "    for i, (img, label)"
      ],
      "metadata": {
        "id": "kWaxg1oDdVb9"
      },
      "execution_count": null,
      "outputs": []
    },
    {
      "cell_type": "code",
      "source": [
        "model = Img2Seq(1000, len(train.unique_symbols))\n",
        "for i, (img, label) in enumerate(train_dataloader):\n",
        "    out = model(img)\n",
        "    break"
      ],
      "metadata": {
        "id": "jlK7ky4gUvsM"
      },
      "execution_count": 15,
      "outputs": []
    },
    {
      "cell_type": "code",
      "source": [
        "out[0]"
      ],
      "metadata": {
        "colab": {
          "base_uri": "https://localhost:8080/"
        },
        "id": "_HqpqOSoU5Zo",
        "outputId": "9a10b08f-7960-4ad2-bd29-7c9e857cedd4"
      },
      "execution_count": 16,
      "outputs": [
        {
          "output_type": "execute_result",
          "data": {
            "text/plain": [
              "tensor([ 0.0137, -0.0100,  0.0071,  0.0067,  0.0221,  0.0107,  0.0150,  0.0054,\n",
              "         0.0150, -0.0156, -0.0101, -0.0051,  0.0146, -0.0150, -0.0050,  0.0044,\n",
              "         0.0004,  0.0067,  0.0080, -0.0175,  0.0042, -0.0014, -0.0096,  0.0189,\n",
              "        -0.0076,  0.0205, -0.0018, -0.0045, -0.0141,  0.0183, -0.0017, -0.0150,\n",
              "        -0.0072,  0.0029, -0.0099, -0.0127, -0.0120,  0.0228,  0.0125, -0.0040,\n",
              "         0.0052, -0.0177, -0.0218,  0.0226,  0.0208,  0.0192, -0.0039, -0.0055,\n",
              "         0.0038, -0.0007,  0.0204, -0.0042,  0.0157, -0.0008, -0.0022,  0.0094,\n",
              "        -0.0046, -0.0229, -0.0031,  0.0082, -0.0177, -0.0121,  0.0094,  0.0283,\n",
              "        -0.0084,  0.0233], grad_fn=<SelectBackward0>)"
            ]
          },
          "metadata": {},
          "execution_count": 16
        }
      ]
    }
  ]
}
{
  "nbformat": 4,
  "nbformat_minor": 0,
  "metadata": {
    "colab": {
      "provenance": []
    },
    "kernelspec": {
      "name": "python3",
      "display_name": "Python 3"
    },
    "language_info": {
      "name": "python"
    },
    "gpuClass": "standard",
    "accelerator": "GPU"
  },
  "cells": [
    {
      "cell_type": "code",
      "execution_count": null,
      "metadata": {
        "id": "bnXz3TepRZ1H"
      },
      "outputs": [],
      "source": [
        "import json\n",
        "api_token = {\"username\":\"iobananaoi\",\"key\":\"0cbdda23beeb18cbb57e9e88bf26bfd1\"}\n",
        "\n",
        "with open('/root/.kaggle/kaggle.json', 'w') as file:\n",
        "    json.dump(api_token, file)\n",
        "\n",
        "!chmod 600 /root/.kaggle/kaggle.json"
      ]
    },
    {
      "cell_type": "code",
      "source": [
        "import cv2\n",
        "import os\n",
        "import gc\n",
        "import zipfile\n",
        "import torch\n",
        "import kaggle\n",
        "import PIL\n",
        "import numpy as np\n",
        "import matplotlib.pyplot as plt\n",
        "from itertools import groupby\n",
        "from torch import nn\n",
        "from torchvision.transforms import ToTensor, Compose, Normalize\n",
        "from torch.utils.data import Dataset, DataLoader\n",
        "from functools import reduce\n",
        "from datetime import date\n",
        "from math import floor"
      ],
      "metadata": {
        "id": "IQvh9uxiRbsS"
      },
      "execution_count": null,
      "outputs": []
    },
    {
      "cell_type": "code",
      "source": [
        "!kaggle datasets download -d romanleo2003/labtinkoff"
      ],
      "metadata": {
        "colab": {
          "base_uri": "https://localhost:8080/"
        },
        "id": "N_swliWXqMnJ",
        "outputId": "845b7e58-4973-459e-b7bd-937bfd59a1c1"
      },
      "execution_count": null,
      "outputs": [
        {
          "output_type": "stream",
          "name": "stdout",
          "text": [
            "Downloading labtinkoff.zip to /content\n",
            "100% 2.12G/2.13G [00:23<00:00, 166MB/s]\n",
            "100% 2.13G/2.13G [00:23<00:00, 97.9MB/s]\n"
          ]
        }
      ]
    },
    {
      "cell_type": "code",
      "source": [
        "zip_ref = zipfile.ZipFile(\"/content/labtinkoff.zip\", 'r')\n",
        "zip_ref.extractall()"
      ],
      "metadata": {
        "id": "k2u7aA9sqnPE"
      },
      "execution_count": null,
      "outputs": []
    },
    {
      "cell_type": "code",
      "source": [
        "for name in zip_ref.namelist():  \n",
        "    old_name = \"/content/\" + name\n",
        "    new_name = name.encode(\"cp437\").decode('utf-8')\n",
        "\n",
        "    zip_ref.extract(name) \n",
        "    os.rename(name, new_name) "
      ],
      "metadata": {
        "id": "0OAAFDU_qouG"
      },
      "execution_count": null,
      "outputs": []
    },
    {
      "cell_type": "code",
      "source": [
        "device = \"cuda\" if torch.cuda.is_available() else \"cpu\"\n",
        "device"
      ],
      "metadata": {
        "id": "b4O5NY9J7OGH",
        "colab": {
          "base_uri": "https://localhost:8080/",
          "height": 36
        },
        "outputId": "644bc01f-5152-4a48-f4a4-653b10458d1e"
      },
      "execution_count": null,
      "outputs": [
        {
          "output_type": "execute_result",
          "data": {
            "text/plain": [
              "'cuda'"
            ],
            "application/vnd.google.colaboratory.intrinsic+json": {
              "type": "string"
            }
          },
          "metadata": {},
          "execution_count": 8
        }
      ]
    },
    {
      "cell_type": "code",
      "source": [
        "batch_size = 32\n",
        "epochs = 5"
      ],
      "metadata": {
        "id": "iO9-SKLNWx37"
      },
      "execution_count": null,
      "outputs": []
    },
    {
      "cell_type": "markdown",
      "source": [
        "# Data processing"
      ],
      "metadata": {
        "id": "wHhzR30xRij6"
      }
    },
    {
      "cell_type": "code",
      "source": [
        "class CCPD(Dataset):\n",
        "    def __init__(self, img_dir, transform=None):\n",
        "        self.img_pathes = [f for f in os.listdir(img_dir) if os.path.isfile(os.path.join(img_dir, f))][:100000]\n",
        "        self.img_labels = [label.split(\"-\")[1][:-4] for label in self.img_pathes][:100000]\n",
        "        self.img_dir = img_dir \n",
        "        self.transform = transform \n",
        "\n",
        "        self.unique_symbols = set([s for label in self.img_labels for s in label])\n",
        "        self.symb2idx = {list(self.unique_symbols)[i]: i+1 for i in range(len(self.unique_symbols))}\n",
        "        self.idx2symb = {i+1: list(self.unique_symbols)[i] for i in range(len(self.unique_symbols))}\n",
        "        \n",
        "    def convert_label2idxs(self, label: str) -> list:\n",
        "        return [self.symb2idx[symb] for symb in label]\n",
        "    \n",
        "    def convert_idxs2label(self, idxs: list) -> str:\n",
        "        symbs_list = [self.idx2symb[idx.item()] for idx in idxs]\n",
        "        return reduce(lambda x, y: x + y, symbs_list)\n",
        "\n",
        "    def __len__(self):\n",
        "        return len(self.img_labels)\n",
        "\n",
        "    def __getitem__(self, idx):\n",
        "        img_path = os.path.join(self.img_dir, self.img_pathes[idx])\n",
        "        image = cv2.imread(img_path)\n",
        "        image = cv2.cvtColor(np.array(image), cv2.COLOR_BGR2GRAY)\n",
        "        image = cv2.resize(image, (100, 40))\n",
        "        label = torch.tensor(self.convert_label2idxs(self.img_labels[idx]))\n",
        "        \n",
        "        if self.transform is not None:\n",
        "            image = self.transform(image)\n",
        "        \n",
        "        return image, label"
      ],
      "metadata": {
        "id": "viHHZ-BwRktg"
      },
      "execution_count": null,
      "outputs": []
    },
    {
      "cell_type": "code",
      "source": [
        "train_data = CCPD(\"CCPD2019-dl1/train\", transform=ToTensor())\n",
        "test_data = CCPD(\"CCPD2019-dl1/test\", transform=ToTensor())"
      ],
      "metadata": {
        "id": "nbW0Swd0RnHj"
      },
      "execution_count": null,
      "outputs": []
    },
    {
      "cell_type": "code",
      "source": [
        "train_dataloader = DataLoader(train_data, batch_size=batch_size, shuffle=True)\n",
        "test_dataloader = DataLoader(test_data, batch_size=batch_size)"
      ],
      "metadata": {
        "id": "mRI_6LAgRoaN"
      },
      "execution_count": null,
      "outputs": []
    },
    {
      "cell_type": "code",
      "source": [
        "example_features, example_labels = next(iter(train_dataloader))\n",
        "img = example_features[0].squeeze()\n",
        "label = example_labels[0]\n",
        "print(f\"Features shape: {example_features.shape}\")\n",
        "print(train_data.convert_idxs2label(label))\n",
        "plt.imshow(img, cmap=\"gray\")\n",
        "plt.show()"
      ],
      "metadata": {
        "id": "q7WYEvgJRpkK",
        "colab": {
          "base_uri": "https://localhost:8080/",
          "height": 219
        },
        "outputId": "411cb784-f13a-4c2d-b4db-835de5909c39"
      },
      "execution_count": null,
      "outputs": [
        {
          "output_type": "stream",
          "name": "stdout",
          "text": [
            "Features shape: torch.Size([32, 1, 40, 100])\n",
            "皖A47L08\n"
          ]
        },
        {
          "output_type": "display_data",
          "data": {
            "text/plain": [
              "<Figure size 432x288 with 1 Axes>"
            ],
            "image/png": "[encoded data removed]"
          },
          "metadata": {
            "needs_background": "light"
          }
        }
      ]
    },
    {
      "cell_type": "markdown",
      "source": [
        "# Model structure"
      ],
      "metadata": {
        "id": "gy0xvCFrRrxu"
      }
    },
    {
      "cell_type": "code",
      "source": [
        "class Encoder(nn.Module):\n",
        "    def __init__(self, dropout):\n",
        "        super(Encoder, self).__init__()\n",
        "\n",
        "        self.layer1 = nn.Sequential(nn.Conv2d(1, 32, kernel_size=(3, 3), stride=1, padding=1), nn.BatchNorm2d(32),\n",
        "            nn.PReLU(), nn.MaxPool2d(kernel_size=2, stride=1)) \n",
        "        self.layer2 = nn.Sequential(nn.Conv2d(32, 64, kernel_size=(3, 3), stride=1, padding=1), nn.BatchNorm2d(64),  \n",
        "            nn.PReLU(), nn.MaxPool2d(kernel_size=2, stride=2))\n",
        "        self.layer3 = nn.Sequential(nn.Conv2d(64, 128, kernel_size=(3, 3), stride=1, padding=1), nn.BatchNorm2d(128), \n",
        "            nn.PReLU(), nn.MaxPool2d(kernel_size=2, stride=1))\n",
        "        self.dropout = nn.Dropout(dropout)\n",
        "        self.layer4 = nn.Sequential(nn.Conv2d(128, 128, kernel_size=(3, 3), stride=1, padding=2), nn.BatchNorm2d(128), \n",
        "            nn.PReLU(), nn.MaxPool2d(kernel_size=2, stride=1))\n",
        "\n",
        "    def forward(self, x):\n",
        "        x = self.layer1(x)\n",
        "        x = self.layer2(x)\n",
        "        x = self.dropout(x)\n",
        "        x = self.layer3(x)\n",
        "        x = self.layer4(x)\n",
        "\n",
        "        x = x.reshape(x.shape[0], -1, x.shape[1]*x.shape[2])\n",
        "        \n",
        "        return x\n",
        "     "
      ],
      "metadata": {
        "id": "JdWdm2TbTuU7"
      },
      "execution_count": null,
      "outputs": []
    },
    {
      "cell_type": "code",
      "source": [
        "class Decoder(nn.Module):\n",
        "    def __init__(self, latent_dims, num_classes, num_layers, dropout):\n",
        "        super(Decoder, self).__init__()\n",
        "\n",
        "        self.gru = nn.GRU(latent_dims, latent_dims, num_layers, dropout=dropout, bidirectional=True, batch_first=True)\n",
        "        self.linear = nn.Linear(latent_dims*2, num_classes)\n",
        "\n",
        "    def forward(self, x):\n",
        "        out, _ = self.gru(x)\n",
        "        out = torch.stack([nn.functional.log_softmax(self.linear(out[i]), dim=-1) for i in range(out.shape[0])])\n",
        "        \n",
        "        return out"
      ],
      "metadata": {
        "id": "nMyCXt06X1KZ"
      },
      "execution_count": null,
      "outputs": []
    },
    {
      "cell_type": "code",
      "source": [
        "class CRNN(nn.Module):\n",
        "    def __init__(self, latent_dims, batch_size, num_classes, rnn_layers=3, rnn_dropout=0.2, cnn_dropout=0.2):\n",
        "        super(CRNN, self).__init__()\n",
        "\n",
        "        self.encoder = Encoder(cnn_dropout)\n",
        "        self.decoder = Decoder(latent_dims, num_classes, rnn_layers, rnn_dropout)\n",
        "\n",
        "    def forward(self, x):\n",
        "        x = self.encoder(x)\n",
        "        x = self.decoder(x)\n",
        "        return x"
      ],
      "metadata": {
        "id": "vlzCyD0ERsSY"
      },
      "execution_count": null,
      "outputs": []
    },
    {
      "cell_type": "markdown",
      "source": [
        "# Training part"
      ],
      "metadata": {
        "id": "MVx7Fw51dWY0"
      }
    },
    {
      "cell_type": "code",
      "source": [
        "def train(model, dataloader, optimizer, loss_fn, last_batch):\n",
        "    min_loss = 0\n",
        "    model.train()\n",
        "    for epoch in range(epochs):\n",
        "        avg_loss = 0\n",
        "        print(f\"======== Epoch {epoch+1} ========\")\n",
        "\n",
        "        for batch, (img, label) in enumerate(dataloader):\n",
        "            if batch <= last_batch:\n",
        "                img, label = img.to(device), label.to(device)\n",
        "\n",
        "                pred = model(img) # pred.shape == torch.Size([16, 49, 67])\n",
        "                pred = pred.permute(1, 0, 2) \n",
        "                \n",
        "\n",
        "                input_lengths = torch.IntTensor(batch_size).fill_(pred.shape[1])\n",
        "                target_lengths = torch.IntTensor([len(t) for t in label])\n",
        "                loss = loss_fn(pred, label, input_lengths, target_lengths)\n",
        "                optimizer.zero_grad()\n",
        "                loss.backward()\n",
        "                torch.nn.utils.clip_grad_norm_(model.parameters(), 2)\n",
        "\n",
        "                optimizer.step()\n",
        "\n",
        "                avg_loss += loss\n",
        "        avg_loss /= last_batch+1\n",
        "        print(f\"Epoch {epoch+1} completed. Average loss: {avg_loss:.5f}\")\n",
        "        if avg_loss >= min_loss * 1.15 and epoch > epochs//2:\n",
        "            break\n",
        "        else:\n",
        "            min_loss = avg_loss\n",
        "    \n",
        "    model_file_name = f\"d{date.today()}l{min_loss:.5f}.pth\"\n",
        "    torch.save(model.state_dict(), model_file_name)\n",
        "    print(f\"The model was saved with the best loss: {min_loss:.5f}\")    "
      ],
      "metadata": {
        "id": "cQ7jXvJl5LHT"
      },
      "execution_count": null,
      "outputs": []
    },
    {
      "cell_type": "code",
      "source": [
        "num_classes = len(train_data.unique_symbols) + 1 # Reserve one more for blank symbol\n",
        "blank_label = num_classes -1\n",
        "last_batch = floor(len(train_data) / batch_size)\n",
        "last_batch"
      ],
      "metadata": {
        "colab": {
          "base_uri": "https://localhost:8080/"
        },
        "id": "lmd7Gg7rNOoy",
        "outputId": "d6bb6a93-e01f-478a-dba8-92b428e9f7ed"
      },
      "execution_count": null,
      "outputs": [
        {
          "output_type": "execute_result",
          "data": {
            "text/plain": [
              "3125"
            ]
          },
          "metadata": {},
          "execution_count": 136
        }
      ]
    },
    {
      "cell_type": "code",
      "source": [
        "model = CRNN(2432, batch_size, num_classes, rnn_layers=2, rnn_dropout=0.25, cnn_dropout=0.25).to(device)\n",
        "optimizer = torch.optim.Adam(model.parameters(), lr=0.001)\n",
        "loss_fn = nn.CTCLoss(blank=blank_label, reduction='mean', zero_infinity=True)"
      ],
      "metadata": {
        "id": "gI2p_5MpvAeQ"
      },
      "execution_count": null,
      "outputs": []
    },
    {
      "cell_type": "code",
      "source": [
        "sum(p.numel() for p in model.parameters() if p.requires_grad)"
      ],
      "metadata": {
        "colab": {
          "base_uri": "https://localhost:8080/"
        },
        "id": "rKcgHyucDc6e",
        "outputId": "78cb903c-bdea-411b-a245-5914140cfbc8"
      },
      "execution_count": null,
      "outputs": [
        {
          "output_type": "execute_result",
          "data": {
            "text/plain": [
              "178054277"
            ]
          },
          "metadata": {},
          "execution_count": 138
        }
      ]
    },
    {
      "cell_type": "code",
      "source": [
        "gc.collect()\n",
        "torch.cuda.empty_cache()\n",
        "train(model, train_dataloader, optimizer, loss_fn, last_batch)"
      ],
      "metadata": {
        "colab": {
          "base_uri": "https://localhost:8080/"
        },
        "id": "g_XX504UIwNN",
        "outputId": "42da40e6-4273-4ef7-cb27-202778371b9a"
      },
      "execution_count": null,
      "outputs": [
        {
          "output_type": "stream",
          "name": "stdout",
          "text": [
            "======== Epoch 1 ========\n",
            "Epoch 1 completed. Average loss: 0.91733\n",
            "======== Epoch 2 ========\n",
            "Epoch 2 completed. Average loss: 0.07981\n",
            "======== Epoch 3 ========\n",
            "Epoch 3 completed. Average loss: 0.06883\n",
            "======== Epoch 4 ========\n",
            "Epoch 4 completed. Average loss: 0.06631\n",
            "======== Epoch 5 ========\n",
            "Epoch 5 completed. Average loss: 0.06653\n",
            "The model was saved with the best loss: 0.06653\n"
          ]
        }
      ]
    },
    {
      "cell_type": "markdown",
      "source": [
        "# Testing part"
      ],
      "metadata": {
        "id": "TfvuxEhAB7YF"
      }
    },
    {
      "cell_type": "code",
      "source": [
        "def test(model, dataloader):\n",
        "    size = len(dataloader.dataset)\n",
        "    model.eval()\n",
        "    num_batches = batch_size\n",
        "\n",
        "    test_loss, correct = 0, 0\n",
        "    i = 0\n",
        "    with torch.no_grad():\n",
        "        for X, y in dataloader:\n",
        "            if i == 156:\n",
        "                break\n",
        "            i += 1\n",
        "            X, y = X.to(device), y.to(device)\n",
        "            pred = model(X)\n",
        "            pred = pred.permute(1, 0, 2)\n",
        "\n",
        "            ctc_loss = nn.CTCLoss(zero_infinity=True)\n",
        "            input_lengths = torch.IntTensor(batch_size).fill_(23)\n",
        "            target_lengths = torch.full(size=(batch_size,), fill_value=7, dtype=torch.long)\n",
        "            test_loss += ctc_loss(pred, y, input_lengths, target_lengths).item()\n",
        "\n",
        "    test_loss /= num_batches\n",
        "    print(f\"Avg loss: {test_loss:>8f} \\n\")"
      ],
      "metadata": {
        "id": "i8zUdiS4WZfZ"
      },
      "execution_count": null,
      "outputs": []
    },
    {
      "cell_type": "code",
      "source": [
        "test(model, test_dataloader)"
      ],
      "metadata": {
        "colab": {
          "base_uri": "https://localhost:8080/"
        },
        "id": "6s6016hNYt7g",
        "outputId": "c0a46bd2-5d0a-4b2a-8667-afdad18dc0ac"
      },
      "execution_count": null,
      "outputs": [
        {
          "output_type": "stream",
          "name": "stdout",
          "text": [
            "Avg loss: -6.471286 \n",
            "\n"
          ]
        }
      ]
    },
    {
      "cell_type": "markdown",
      "source": [
        "На лицо очевидное недообучение модели. Скорее всего проблема в реализации выбранной архитектуры.\n",
        "Из идей, как можно было бы привести её к удобоваримому виду: <br>\n",
        "1) Заменить GRU, на LSTM(bidirectional=true), требует больше времени для обучения, но работает лучше<br>\n",
        "2) Добавить эпох<br>\n",
        "3) Как-то поменять decoder, добавить нормализацию по батчу, добавить больше конволюционных слоёв, увеличить окно ядра<br>\n",
        "4) Добавить слоёв в LSTM"
      ],
      "metadata": {
        "id": "AYKTNTrJ7Xwz"
      }
    },
    {
      "cell_type": "code",
      "source": [],
      "metadata": {
        "id": "s1yCtQrkbLGQ"
      },
      "execution_count": null,
      "outputs": []
    }
  ]
}